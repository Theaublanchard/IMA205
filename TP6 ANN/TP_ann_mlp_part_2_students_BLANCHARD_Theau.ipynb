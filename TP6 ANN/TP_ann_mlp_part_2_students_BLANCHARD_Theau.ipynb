{
 "cells": [
  {
   "cell_type": "markdown",
   "metadata": {
    "id": "RIjFqlgERHAq"
   },
   "source": [
    "# IMA-205\n",
    "# TP ANN (part B) 2021/03/29\n",
    "\n",
    "## Coding a Multi-Layer Perceptron with Tensorflow\n",
    "Author : Alasdair Newson"
   ]
  },
  {
   "cell_type": "markdown",
   "metadata": {
    "id": "oG_lwX5GRHAs"
   },
   "source": [
    "In the second part of this TP, we will be looking at the Multi-Layer Perceptron (MLP) using Tensorflow (http://www.tensorflow.org)\n",
    "\n",
    "We will be using the following packages :\n",
    "   \n",
    "   - Scikit-learn (http://scikit-learn.org/)\n",
    "   - Tensorflow (http://www.tensorflow.org)\n",
    "\n",
    "The following commands will make sure that you have all the necessary packages"
   ]
  },
  {
   "cell_type": "code",
   "execution_count": 1,
   "metadata": {
    "ExecuteTime": {
     "end_time": "2022-04-05T16:55:42.336676Z",
     "start_time": "2022-04-05T16:55:38.366781Z"
    },
    "id": "sCGFw05kRHAs"
   },
   "outputs": [
    {
     "name": "stdout",
     "output_type": "stream",
     "text": [
      "2.8.0\n"
     ]
    }
   ],
   "source": [
    "%matplotlib inline                      \n",
    "\n",
    "import numpy as np\n",
    "import matplotlib.pyplot as plt\n",
    "import os\n",
    "import pdb\n",
    "\n",
    "import sklearn  # scikit-learn\n",
    "import tensorflow as tf\n",
    "\n",
    "# import tensorflow models\n",
    "from tensorflow.keras.models import Sequential, Model\n",
    "from tensorflow.keras.layers import Dense, Dropout, Activation, Flatten, Input\n",
    "from tensorflow.keras.layers import Conv2D, MaxPooling2D\n",
    "from tensorflow.keras import optimizers\n",
    "print(tf.keras.__version__)"
   ]
  },
  {
   "cell_type": "markdown",
   "metadata": {
    "id": "dxgAcMrMRHAt"
   },
   "source": [
    "# 1 - Multi-Layer Perceptron with Tensorflow"
   ]
  },
  {
   "cell_type": "markdown",
   "metadata": {
    "id": "OjK-B5mkRHAt"
   },
   "source": [
    "## Introduction to TensorFlow"
   ]
  },
  {
   "cell_type": "markdown",
   "metadata": {
    "id": "gzVmdesCRHAu"
   },
   "source": [
    "Tensorflow is an environment written by Google which allows easy implementation of deep neural networks. In particular, it provides automatic differentiation so that the user does not have to determine gradients manually, which can be extremely long even for simple networks, as you have seen in the previous TP*.\n",
    "\n",
    "This, in turn allows a user to apply techniques such as stochastic gradient descent for training purposes. The differentiation graph is created symbolically when the network is created. Since a neural network is simply a cascade (or concatenation) of simple functions, the network in Tensorflow is simply a sequence of functions which are applied to one or several variables. The output of the final function is the output of the network.\n",
    "\n",
    "For instance, if the input were ```x``` and the network consisted of two functions ```a``` and ```b```, you could create the network simply by writing :\n",
    "\n",
    "```y = b(a(x))```\n",
    "\n",
    "However, it is clear that these functions and variables must be of some special type, so that the computer can figure out how to carry out the automatic differentiation for training. Tensorflow provides these functions and variables, which must be created with the Tensorflow package.\n",
    "\n",
    "Previously, Tensorflow required a strict separation between the creation (declaration) of variables and their execution (giving a numerical value, using the ```Session``` function). With Keras and Tensorflow 2, this separation has been removed, and the language has become simpler, in particular for creating and training networks.\n",
    "\n",
    "## Creating a network\n",
    "\n",
    "To create a network, there are two (main) methods :\n",
    "\n",
    "### Creating a model using the Sequential API\n",
    "\n",
    "Tensorflow has a simple way of adding layers to create a neural network. First, you can indicate to Tensorflow that the model is 'sequential' (a simple model, with not many tweaks). For this, you can use the following function :\n",
    "- ```model = Sequential()```\n",
    "\n",
    "After this, you can add layers with the function.\n",
    "\n",
    "- ```model.add()```\n",
    "\n",
    "You can then use the ```Dense``` (and other) functions to specify different layer types.  __Note that in the case of this approach, you will have to specify the input image size in the first layer of the network, inside the first layer function.__ So, for example, if the first layer is a dense layer with a relu activation, with n_out output neurons, and n_input neurons :\n",
    "\n",
    "- model = Sequential()\n",
    "- model.add(Dense(n_out,activation,input_shape=(n_in,),activation='relu'))\n",
    "\n",
    "Otherwise, the network does not know how many weights to create. __Be careful of this special case (the first layer)__ \n",
    "\n",
    "### Creating a model using the standard API\n",
    "\n",
    "Otherwise, another approach to creating the model is to explicitly create the input variable, and just cascade the different functions, as in Tensorflow. So, for the same example, we would have :\n",
    "\n",
    "- input = Input(shape=(n_in,))\n",
    "- output = Dense(n_in,n_out,activation='relu')(input)\n",
    "- model = Model(input, output)\n",
    "\n",
    "\n",
    "For now, let's use the Sequential API (however, if you want to try the standard API, go ahead).\n",
    "\n",
    "## Training and testing a network\n",
    "\n",
    "Tensorflow allows the easy training of a network with the following functions :\n",
    "\n",
    "- model.compile(loss='binary_crossentropy', optimizer=optimizers.Adam(lr=learning_rate)) : create the loss function and define the optimiser used. This function can do many other useful things (such as specifying different metrics to look at the model's performance\n",
    "\n",
    "- model.fit(...) : train the model\n",
    "- model.evaluate(...) : test the model\n",
    "- model.predict(...) : carry out a simple forward pass on the model\n",
    "\n",
    "Please look at the Tensorflow documenation for further details on these functions.\n"
   ]
  },
  {
   "cell_type": "markdown",
   "metadata": {
    "id": "UYFxzt5mRHAy"
   },
   "source": [
    "# MLP with TensorFlow\n",
    "\n",
    "We are now going to create an MLP with tensorflow. We will start with an MLP with one hidden layer. The network should consist of the following operations, in the following order :\n",
    "\n",
    "- Fully connected layer, with weights w1 and biases b1\n",
    "- ReLU activation\n",
    "- Fully connected layer, with weights w2 and biases b2\n",
    "- Sigmoid output activation\n",
    "\n",
    "We are going to be solving a binary classification \n",
    "problem, so the output of the network should be a scalar between 0 and 1 (thus the last layer is a Sigmoid activation).\n",
    "\n",
    "The loss function should be defined as the binary cross-entropy between the predicted class and the true class\n"
   ]
  },
  {
   "cell_type": "markdown",
   "metadata": {
    "id": "jdGVzE6NRHAy"
   },
   "source": [
    "First, we load the data."
   ]
  },
  {
   "cell_type": "code",
   "execution_count": 2,
   "metadata": {
    "ExecuteTime": {
     "end_time": "2022-04-05T16:55:42.688756Z",
     "start_time": "2022-04-05T16:55:42.338677Z"
    },
    "id": "EfiJwuLmRHAy"
   },
   "outputs": [
    {
     "data": {
      "image/png": "[encoded data removed]",
      "text/plain": [
       "<Figure size 432x288 with 1 Axes>"
      ]
     },
     "metadata": {
      "needs_background": "light"
     },
     "output_type": "display_data"
    }
   ],
   "source": [
    "from sklearn import datasets\n",
    "from sklearn.preprocessing import MinMaxScaler\n",
    "from sklearn.model_selection import train_test_split\n",
    "\n",
    "X, Y = datasets.make_circles(n_samples=1000, noise=0.05, factor=0.5)\n",
    "#X, y = datasets.make_moons(n_samples=1000, random_state=42)  # try with 2 moons\n",
    "X = MinMaxScaler().fit_transform(X)\n",
    "\n",
    "#show data in plot\n",
    "plt.plot(X[Y == 1, 0], X[Y == 1, 1], 'ro')\n",
    "plt.plot(X[Y == 0, 0], X[Y == 0, 1], 'bo')\n",
    "plt.grid('on')"
   ]
  },
  {
   "cell_type": "markdown",
   "metadata": {
    "id": "cRL1c6UyRHAy"
   },
   "source": [
    "We are now going to define some useful auxillary functions.\n",
    "\n",
    "First, a function that shows the decision boundary of our network. This works only for 2D input data"
   ]
  },
  {
   "cell_type": "code",
   "execution_count": 3,
   "metadata": {
    "ExecuteTime": {
     "end_time": "2022-04-05T16:55:42.704758Z",
     "start_time": "2022-04-05T16:55:42.690755Z"
    },
    "code_folding": [
     0,
     2
    ],
    "id": "x0cUhY8xRHAz"
   },
   "outputs": [],
   "source": [
    "# THIS CODE IS GIVEN\n",
    "\n",
    "def plot_decision_function_2d(model_mlp, X, Y):\n",
    "   # create a mesh to plot in\n",
    "    h = .02  # step size in the mesh\n",
    "    offset = 0.1\n",
    "    x_min, x_max = X[:, 0].min() - offset, X[:, 0].max() + offset\n",
    "    y_min, y_max = X[:, 1].min() - offset, X[:, 1].max() + offset\n",
    "    xx, yy = np.meshgrid(np.arange(x_min, x_max, h),\n",
    "                         np.arange(y_min, y_max, h))\n",
    "\n",
    "    # Plot the decision boundary. For that, we will assign a color to each\n",
    "    # point in the mesh [x_min, x_max]x[y_min, y_max].\n",
    "    Z = model_mlp.predict(np.c_[xx.ravel(), yy.ravel()])\n",
    "    print(Z.shape)\n",
    "    print(Z)\n",
    "    \n",
    "    Z = Z<0.5\n",
    "    # Put the result into a color plot\n",
    "    Z = Z.reshape(xx.shape)\n",
    "    plt.figure()\n",
    "    plt.contourf(xx, yy, Z, cmap=plt.cm.Paired)\n",
    "\n",
    "    plt.plot(X[Y == 1, 0], X[Y == 1, 1], 'yo')\n",
    "    plt.plot(X[Y == 0, 0], X[Y == 0, 1], 'ko')\n",
    "\n",
    "    plt.title(\"Decision surface\")\n",
    "    plt.axis('tight')"
   ]
  },
  {
   "cell_type": "markdown",
   "metadata": {
    "id": "CKtZJ5iQRHA0"
   },
   "source": [
    "## CREATING AND TRAINING THE MODEL\n",
    "\n",
    "We are now ready to create our network with a Tensorflow Session and to carry out training on our training dataset."
   ]
  },
  {
   "cell_type": "code",
   "execution_count": 4,
   "metadata": {
    "ExecuteTime": {
     "end_time": "2022-04-05T16:55:45.164820Z",
     "start_time": "2022-04-05T16:55:42.706759Z"
    },
    "id": "WO8dHtrGRHA0"
   },
   "outputs": [
    {
     "name": "stdout",
     "output_type": "stream",
     "text": [
      "(850, 2)\n",
      "Training\n",
      "Epoch 1/20\n",
      "14/14 [==============================] - 0s 1ms/step - loss: 0.6848 - accuracy: 0.5894\n",
      "Epoch 2/20\n",
      "14/14 [==============================] - 0s 923us/step - loss: 0.6694 - accuracy: 0.7506\n",
      "Epoch 3/20\n",
      "14/14 [==============================] - 0s 1ms/step - loss: 0.6545 - accuracy: 0.6741\n",
      "Epoch 4/20\n",
      "14/14 [==============================] - 0s 1ms/step - loss: 0.6291 - accuracy: 0.6753\n",
      "Epoch 5/20\n",
      "14/14 [==============================] - 0s 1ms/step - loss: 0.6053 - accuracy: 0.7012\n",
      "Epoch 6/20\n",
      "14/14 [==============================] - 0s 923us/step - loss: 0.5818 - accuracy: 0.7353\n",
      "Epoch 7/20\n",
      "14/14 [==============================] - 0s 923us/step - loss: 0.5560 - accuracy: 0.7812\n",
      "Epoch 8/20\n",
      "14/14 [==============================] - 0s 1ms/step - loss: 0.5321 - accuracy: 0.7706\n",
      "Epoch 9/20\n",
      "14/14 [==============================] - 0s 923us/step - loss: 0.5076 - accuracy: 0.7894\n",
      "Epoch 10/20\n",
      "14/14 [==============================] - 0s 923us/step - loss: 0.4817 - accuracy: 0.8141\n",
      "Epoch 11/20\n",
      "14/14 [==============================] - 0s 1ms/step - loss: 0.4541 - accuracy: 0.8247\n",
      "Epoch 12/20\n",
      "14/14 [==============================] - 0s 923us/step - loss: 0.4251 - accuracy: 0.8659\n",
      "Epoch 13/20\n",
      "14/14 [==============================] - 0s 1ms/step - loss: 0.3932 - accuracy: 0.9082\n",
      "Epoch 14/20\n",
      "14/14 [==============================] - 0s 923us/step - loss: 0.3619 - accuracy: 0.9200\n",
      "Epoch 15/20\n",
      "14/14 [==============================] - 0s 1000us/step - loss: 0.3251 - accuracy: 0.9471\n",
      "Epoch 16/20\n",
      "14/14 [==============================] - 0s 1ms/step - loss: 0.2915 - accuracy: 0.9553\n",
      "Epoch 17/20\n",
      "14/14 [==============================] - 0s 846us/step - loss: 0.2598 - accuracy: 0.9647\n",
      "Epoch 18/20\n",
      "14/14 [==============================] - 0s 923us/step - loss: 0.2252 - accuracy: 0.9788\n",
      "Epoch 19/20\n",
      "14/14 [==============================] - 0s 923us/step - loss: 0.2006 - accuracy: 0.9835\n",
      "Epoch 20/20\n",
      "14/14 [==============================] - 0s 923us/step - loss: 0.1758 - accuracy: 0.9953\n",
      "Testing\n",
      "5/5 - 0s - loss: 0.1692 - accuracy: 1.0000 - 103ms/epoch - 21ms/step\n"
     ]
    },
    {
     "data": {
      "text/plain": [
       "[0.16916275024414062, 1.0]"
      ]
     },
     "execution_count": 4,
     "metadata": {},
     "output_type": "execute_result"
    }
   ],
   "source": [
    "# FILL IN CODE BY STUDENTS IN THIS SECTION\n",
    "\n",
    "#We split up the data into training and test data, using a function from Scikit-learn :\n",
    "X_train, X_test, Y_train, Y_test = train_test_split(X, Y, test_size=0.15)\n",
    "print(X_train.shape)\n",
    "\n",
    "# Layer sizes\n",
    "n_input = X.shape[1]  # Number of input features\n",
    "n_hidden = 50  # Number of hidden nodes\n",
    "\n",
    "# create the model (using the sequential API)\n",
    "\n",
    "model_mlp = Sequential()   # FILL IN STUDENTS\n",
    "model_mlp.add(Dense(n_hidden,input_shape=(n_input,),activation='relu'))\n",
    "model_mlp.add(Dense(1,activation='sigmoid'))\n",
    "# create the loss and optimiser\n",
    "learning_rate = 0.01\n",
    "model_mlp.compile(loss='binary_crossentropy', optimizer=optimizers.Adam(learning_rate=learning_rate),metrics=[\"accuracy\"]) # TO FILL IN\n",
    "# Run optimisation algorithm\n",
    "n_epochs = 20\n",
    "batch_size = 64\n",
    "\n",
    "print('Training')\n",
    "model_mlp.fit(X_train, Y_train, epochs=n_epochs,batch_size=batch_size) # TO FILL IN\n",
    "\n",
    "print('Testing')\n",
    "model_mlp.evaluate(X_test, Y_test, verbose=2) # TO FILL IN\n"
   ]
  },
  {
   "cell_type": "code",
   "execution_count": 5,
   "metadata": {
    "ExecuteTime": {
     "end_time": "2022-04-05T16:55:45.418876Z",
     "start_time": "2022-04-05T16:55:45.166821Z"
    },
    "id": "lpBaU1rcc0oY"
   },
   "outputs": [
    {
     "name": "stdout",
     "output_type": "stream",
     "text": [
      "(3481, 1)\n",
      "[[0.00043401]\n",
      " [0.00059867]\n",
      " [0.00082585]\n",
      " ...\n",
      " [0.00211927]\n",
      " [0.00174749]\n",
      " [0.00144085]]\n"
     ]
    },
    {
     "data": {
      "image/png": "[encoded data removed]",
      "text/plain": [
       "<Figure size 432x288 with 1 Axes>"
      ]
     },
     "metadata": {
      "needs_background": "light"
     },
     "output_type": "display_data"
    }
   ],
   "source": [
    "plot_decision_function_2d(model_mlp, X_test, Y_test)"
   ]
  },
  {
   "cell_type": "markdown",
   "metadata": {
    "id": "6oni6Q5vRHA0"
   },
   "source": [
    "# MLP with several hidden layers\n",
    "\n",
    "We are now going to create an MLP with several hidden layers. We are going to use a more complicated dataset : the MNIST dataset, which contains images of handwritten digits. There are 10 classes, one for each digit.\n",
    "\n",
    "We are going to implement the following architecture :\n",
    "\n",
    "- Fully connected layer\n",
    "- Relu activation\n",
    "- Fully connected layer\n",
    "- Relu activation\n",
    "- Fully connected layer\n",
    "- Relu activation\n",
    "- Fully connected layer\n",
    "- Softmax output activation\n",
    "\n",
    "__IMPORTANT Note__ The sigmoid layer has been replaced by a softmax layer (at the end). This is normal, since we have a multi-class problem.\n",
    "\n",
    "\n",
    "First, we load the MNIST dataset."
   ]
  },
  {
   "cell_type": "code",
   "execution_count": 6,
   "metadata": {
    "ExecuteTime": {
     "end_time": "2022-04-05T16:55:45.641926Z",
     "start_time": "2022-04-05T16:55:45.420876Z"
    },
    "id": "Z0cGLMKRRHA0"
   },
   "outputs": [],
   "source": [
    "# Import MNIST data\n",
    "mnist = tf.keras.datasets.mnist\n",
    "(X_train, y_train),(X_test\n",
    "                    , y_test) = mnist.load_data()\n",
    "\n",
    "Y_train = tf.keras.utils.to_categorical(y_train)  # in order to convert y to a matrix with (num_examples, num_classes) (one-hot encoding)\n",
    "Y_test = tf.keras.utils.to_categorical(y_test)  # in order to convert y to a matrix with (num_examples, num_classes) (one-hot encoding)\n",
    "\n",
    "#reshape the input images : flatten the last two dimensions\n",
    "X_train = np.reshape(X_train,(X_train.shape[0],X_train.shape[1]*X_train.shape[2]))\n",
    "X_test = np.reshape(X_test,(X_test.shape[0],X_test.shape[1]*X_test.shape[2]))\n"
   ]
  },
  {
   "cell_type": "markdown",
   "metadata": {
    "id": "EzMV_9-NRHA1"
   },
   "source": [
    "Finally, fill in the following code to create and train your MLP"
   ]
  },
  {
   "cell_type": "code",
   "execution_count": 7,
   "metadata": {
    "ExecuteTime": {
     "end_time": "2022-04-05T16:56:47.120763Z",
     "start_time": "2022-04-05T16:55:45.643927Z"
    },
    "id": "2G7AToqyRHA1"
   },
   "outputs": [
    {
     "name": "stdout",
     "output_type": "stream",
     "text": [
      "Training\n",
      "Epoch 1/20\n",
      "938/938 [==============================] - 3s 3ms/step - loss: 3.4548 - accuracy: 0.6066\n",
      "Epoch 2/20\n",
      "938/938 [==============================] - 3s 3ms/step - loss: 0.7242 - accuracy: 0.7471\n",
      "Epoch 3/20\n",
      "938/938 [==============================] - 3s 3ms/step - loss: 0.9141 - accuracy: 0.6750\n",
      "Epoch 4/20\n",
      "938/938 [==============================] - 3s 3ms/step - loss: 0.9367 - accuracy: 0.6543\n",
      "Epoch 5/20\n",
      "938/938 [==============================] - 3s 3ms/step - loss: 0.8102 - accuracy: 0.7034\n",
      "Epoch 6/20\n",
      "938/938 [==============================] - 3s 3ms/step - loss: 0.7710 - accuracy: 0.7241\n",
      "Epoch 7/20\n",
      "938/938 [==============================] - 3s 3ms/step - loss: 0.7513 - accuracy: 0.7256\n",
      "Epoch 8/20\n",
      "938/938 [==============================] - 3s 3ms/step - loss: 0.7470 - accuracy: 0.7278\n",
      "Epoch 9/20\n",
      "938/938 [==============================] - 3s 3ms/step - loss: 0.7974 - accuracy: 0.7255\n",
      "Epoch 10/20\n",
      "938/938 [==============================] - 3s 3ms/step - loss: 0.7791 - accuracy: 0.7296\n",
      "Epoch 11/20\n",
      "938/938 [==============================] - 3s 3ms/step - loss: 0.8754 - accuracy: 0.6883\n",
      "Epoch 12/20\n",
      "938/938 [==============================] - 3s 3ms/step - loss: 0.8339 - accuracy: 0.7119\n",
      "Epoch 13/20\n",
      "938/938 [==============================] - 3s 3ms/step - loss: 0.7892 - accuracy: 0.7305\n",
      "Epoch 14/20\n",
      "938/938 [==============================] - 3s 3ms/step - loss: 1.0743 - accuracy: 0.6280\n",
      "Epoch 15/20\n",
      "938/938 [==============================] - 3s 3ms/step - loss: 1.3580 - accuracy: 0.4543\n",
      "Epoch 16/20\n",
      "938/938 [==============================] - 3s 3ms/step - loss: 1.0920 - accuracy: 0.5482\n",
      "Epoch 17/20\n",
      "938/938 [==============================] - 3s 3ms/step - loss: 1.2295 - accuracy: 0.4931\n",
      "Epoch 18/20\n",
      "938/938 [==============================] - 3s 4ms/step - loss: 1.2738 - accuracy: 0.4752\n",
      "Epoch 19/20\n",
      "938/938 [==============================] - 3s 3ms/step - loss: 1.2474 - accuracy: 0.4764\n",
      "Epoch 20/20\n",
      "938/938 [==============================] - 3s 3ms/step - loss: 1.2158 - accuracy: 0.5036\n",
      "Testing\n",
      "313/313 - 0s - loss: 1.2189 - accuracy: 0.5451 - 483ms/epoch - 2ms/step\n"
     ]
    },
    {
     "data": {
      "text/plain": [
       "[1.2189244031906128, 0.5450999736785889]"
      ]
     },
     "execution_count": 7,
     "metadata": {},
     "output_type": "execute_result"
    }
   ],
   "source": [
    "\n",
    "# Network Parameters\n",
    "n_hidden_1 = 256 # 1st layer number of neurons\n",
    "n_hidden_2 = 256 # 2nd layer number of neurons\n",
    "n_hidden_3 = 128 # 2nd layer number of neurons\n",
    "\n",
    "n_input = X_train.shape[1]\n",
    "n_classes = Y_train.shape[1] # MNIST total classes (0-9 digits)\n",
    "\n",
    "# TO CODE BY STUDENTS\n",
    "\n",
    "\n",
    "model_mlp_multi_layer = Sequential(Dense(n_hidden_1,input_shape=(n_input,),activation='relu'))\n",
    "model_mlp_multi_layer.add(Dense(n_hidden_2,input_shape=(n_input,),activation='relu'))\n",
    "model_mlp_multi_layer.add(Dense(n_hidden_3,activation='relu'))\n",
    "model_mlp_multi_layer.add(Dense(n_classes,activation='softmax'))\n",
    "\n",
    "# create the loss and optimiser, use 'categorical_crossentropy' in loss\n",
    "learning_rate = 0.01\n",
    "model_mlp_multi_layer.compile(loss='categorical_crossentropy', optimizer=optimizers.Adam(learning_rate=learning_rate),metrics=[\"accuracy\"]) # TO FILL IN\n",
    "\n",
    "# Run optimisation algorithm\n",
    "n_epochs = 20\n",
    "batch_size = 64\n",
    "\n",
    "print('Training')\n",
    "model_mlp_multi_layer.fit(X_train, Y_train, epochs=n_epochs,batch_size=batch_size) # TO FILL IN\n",
    "\n",
    "print('Testing')\n",
    "model_mlp_multi_layer.evaluate(X_test, Y_test, verbose=2) # TO FILL IN"
   ]
  },
  {
   "cell_type": "code",
   "execution_count": 8,
   "metadata": {
    "ExecuteTime": {
     "end_time": "2022-04-05T16:56:47.136767Z",
     "start_time": "2022-04-05T16:56:47.123763Z"
    },
    "id": "s6Q-JntxluxG"
   },
   "outputs": [],
   "source": [
    "# THIS CODE IS GIVEN\n",
    "\n",
    "def test_mnist_images(model_mlp_multi_layer,X_test):\n",
    "  plt.figure(figsize=(10, 6))\n",
    "  for idx in range(0,10):\n",
    "      plt.subplot(2, 5, idx+1)\n",
    "      rand_ind = np.random.randint(0,X_test.shape[0])\n",
    "      plt.imshow(np.reshape(X_test[rand_ind,:],(28,28)),cmap='gray')\n",
    "      # get prediction\n",
    "      model_prediction = np.argmax(model_mlp_multi_layer.predict(np.expand_dims( X_test[rand_ind,:], axis=0)),axis=1)\n",
    "      plt.title(int(model_prediction))"
   ]
  },
  {
   "cell_type": "code",
   "execution_count": 9,
   "metadata": {
    "ExecuteTime": {
     "end_time": "2022-04-05T16:56:48.072982Z",
     "start_time": "2022-04-05T16:56:47.137766Z"
    },
    "id": "r2D9RE4apVWW"
   },
   "outputs": [
    {
     "data": {
      "image/png": "[encoded data removed]",
      "text/plain": [
       "<Figure size 720x432 with 10 Axes>"
      ]
     },
     "metadata": {
      "needs_background": "light"
     },
     "output_type": "display_data"
    }
   ],
   "source": [
    "test_mnist_images(model_mlp_multi_layer,X_test)"
   ]
  },
  {
   "cell_type": "markdown",
   "metadata": {
    "id": "lItdBVnfu7xK"
   },
   "source": [
    "You may observe some difficulties in getting good performance in this case. To improve training, we can turn to __regularisation__"
   ]
  },
  {
   "cell_type": "markdown",
   "metadata": {
    "id": "Vgao_U5XRHA2"
   },
   "source": [
    "## BATCH NORMALISATION\n",
    "\n",
    "One approach to regularisation which we have seen during the lesson is known as batch normalisation, which we have seen during the lesson. This can be implemented very simply in Tensorflow by adding the following layer :\n",
    "\n",
    "- ```BatchNormalization()```\n",
    "\n",
    "Change your model below, and implement this using your code above"
   ]
  },
  {
   "cell_type": "code",
   "execution_count": 10,
   "metadata": {
    "ExecuteTime": {
     "end_time": "2022-04-05T16:58:06.116990Z",
     "start_time": "2022-04-05T16:56:48.075977Z"
    },
    "id": "6Ela5-4XRHA2"
   },
   "outputs": [
    {
     "name": "stdout",
     "output_type": "stream",
     "text": [
      "Training\n",
      "Epoch 1/20\n",
      "938/938 [==============================] - 4s 4ms/step - loss: 0.2132 - accuracy: 0.9344\n",
      "Epoch 2/20\n",
      "938/938 [==============================] - 4s 5ms/step - loss: 0.1090 - accuracy: 0.9667\n",
      "Epoch 3/20\n",
      "938/938 [==============================] - 4s 5ms/step - loss: 0.0850 - accuracy: 0.9728\n",
      "Epoch 4/20\n",
      "938/938 [==============================] - 4s 4ms/step - loss: 0.0726 - accuracy: 0.9773\n",
      "Epoch 5/20\n",
      "938/938 [==============================] - 4s 4ms/step - loss: 0.0590 - accuracy: 0.9816\n",
      "Epoch 6/20\n",
      "938/938 [==============================] - 4s 4ms/step - loss: 0.0523 - accuracy: 0.9837\n",
      "Epoch 7/20\n",
      "938/938 [==============================] - 4s 4ms/step - loss: 0.0471 - accuracy: 0.9845\n",
      "Epoch 8/20\n",
      "938/938 [==============================] - 4s 4ms/step - loss: 0.0417 - accuracy: 0.9865\n",
      "Epoch 9/20\n",
      "938/938 [==============================] - 4s 4ms/step - loss: 0.0383 - accuracy: 0.9879\n",
      "Epoch 10/20\n",
      "938/938 [==============================] - 4s 4ms/step - loss: 0.0322 - accuracy: 0.9893\n",
      "Epoch 11/20\n",
      "938/938 [==============================] - 4s 4ms/step - loss: 0.0323 - accuracy: 0.9894\n",
      "Epoch 12/20\n",
      "938/938 [==============================] - 4s 4ms/step - loss: 0.0289 - accuracy: 0.9913\n",
      "Epoch 13/20\n",
      "938/938 [==============================] - 4s 4ms/step - loss: 0.0270 - accuracy: 0.9910\n",
      "Epoch 14/20\n",
      "938/938 [==============================] - 4s 4ms/step - loss: 0.0229 - accuracy: 0.9928\n",
      "Epoch 15/20\n",
      "938/938 [==============================] - 4s 4ms/step - loss: 0.0241 - accuracy: 0.9920\n",
      "Epoch 16/20\n",
      "938/938 [==============================] - 4s 4ms/step - loss: 0.0208 - accuracy: 0.9931\n",
      "Epoch 17/20\n",
      "938/938 [==============================] - 4s 4ms/step - loss: 0.0194 - accuracy: 0.9936\n",
      "Epoch 18/20\n",
      "938/938 [==============================] - 4s 4ms/step - loss: 0.0198 - accuracy: 0.9936\n",
      "Epoch 19/20\n",
      "938/938 [==============================] - 4s 4ms/step - loss: 0.0174 - accuracy: 0.9944\n",
      "Epoch 20/20\n",
      "938/938 [==============================] - 3s 4ms/step - loss: 0.0162 - accuracy: 0.9946\n",
      "Testing\n",
      "313/313 - 0s - loss: 0.0818 - accuracy: 0.9836 - 437ms/epoch - 1ms/step\n"
     ]
    },
    {
     "data": {
      "text/plain": [
       "[0.08175697922706604, 0.9836000204086304]"
      ]
     },
     "execution_count": 10,
     "metadata": {},
     "output_type": "execute_result"
    }
   ],
   "source": [
    "from tensorflow.keras.layers import Dense, BatchNormalization,ReLU\n",
    "\n",
    "# TO CODE BY STUDENTS\n",
    "\n",
    "# Network Parameters\n",
    "n_hidden_1 = 256 # 1st layer number of neurons\n",
    "n_hidden_2 = 256 # 2nd layer number of neurons\n",
    "n_hidden_3 = 128 # 2nd layer number of neurons\n",
    "\n",
    "alpha_relu=0.2\n",
    "\n",
    "n_input = X_train.shape[1]\n",
    "n_classes = Y_train.shape[1] # MNIST total classes (0-9 digits)\n",
    "\n",
    "# TO CODE BY STUDENTS\n",
    "\n",
    "model_mlp_multi_layer.add(BatchNormalization())\n",
    "model_mlp_multi_layer = Sequential(Dense(n_hidden_1,input_shape=(n_input,)))\n",
    "model_mlp_multi_layer.add(BatchNormalization())\n",
    "model_mlp_multi_layer.add(ReLU())\n",
    "model_mlp_multi_layer.add(Dense(n_hidden_2))\n",
    "model_mlp_multi_layer.add(BatchNormalization())\n",
    "model_mlp_multi_layer.add(ReLU())\n",
    "model_mlp_multi_layer.add(Dense(n_hidden_3))\n",
    "model_mlp_multi_layer.add(BatchNormalization())\n",
    "model_mlp_multi_layer.add(ReLU())\n",
    "model_mlp_multi_layer.add(Dense(n_classes,activation='softmax'))\n",
    "\n",
    "# create the loss and optimiser, use 'categorical_crossentropy' in loss\n",
    "learning_rate = 0.01\n",
    "model_mlp_multi_layer.compile(loss='categorical_crossentropy', optimizer=optimizers.Adam(learning_rate=learning_rate),metrics=[\"accuracy\"]) # TO FILL IN\n",
    "\n",
    "# Run optimisation algorithm\n",
    "n_epochs = 20\n",
    "batch_size = 64\n",
    "\n",
    "print('Training')\n",
    "model_mlp_multi_layer.fit(X_train, Y_train, epochs=n_epochs,batch_size=batch_size) # TO FILL IN\n",
    "\n",
    "print('Testing')\n",
    "model_mlp_multi_layer.evaluate(X_test, Y_test, verbose=2) # TO FILL IN"
   ]
  },
  {
   "cell_type": "code",
   "execution_count": 11,
   "metadata": {
    "ExecuteTime": {
     "end_time": "2022-04-05T16:58:07.056200Z",
     "start_time": "2022-04-05T16:58:06.118990Z"
    },
    "id": "cSxGzvQ3pg3u"
   },
   "outputs": [
    {
     "data": {
      "image/png": "[encoded data removed]",
      "text/plain": [
       "<Figure size 720x432 with 10 Axes>"
      ]
     },
     "metadata": {
      "needs_background": "light"
     },
     "output_type": "display_data"
    }
   ],
   "source": [
    "test_mnist_images(model_mlp_multi_layer,X_test)"
   ]
  },
  {
   "cell_type": "markdown",
   "metadata": {
    "id": "Wp2VIfZ1v7lN"
   },
   "source": [
    "Question : do you observe improved convergence ?\n",
    "On a de biens meilleurs résultats, on passe d'une précision de 0.7483 à 0.9775."
   ]
  },
  {
   "cell_type": "markdown",
   "metadata": {
    "id": "Y2CWgKZeRHA2"
   },
   "source": [
    "#### Documentation:\n",
    "\n",
    "  - http://www.tensorflow.org\n",
    "  - http://www.deeplearningbook.org/"
   ]
  },
  {
   "cell_type": "markdown",
   "metadata": {
    "ExecuteTime": {
     "end_time": "2022-04-05T16:52:51.005662Z",
     "start_time": "2022-04-05T16:52:50.989659Z"
    }
   },
   "source": [
    "## Dropout\n",
    "\n",
    "You may see that there is a difference between the training accuracy and the testing accuracy. This is the problem of overfitting. To alleviate this problem, we can turn to _dropout_:\n",
    "\n",
    "```tf.keras.layers.Dropout(rate,...)```\n",
    "\n",
    "where rate is the probability that an input neuron to a layer will get set to 0. You can do this in any layer. Use the previous architecture and try out the droupout. Set the dropout rate to 0.1 as a first test."
   ]
  },
  {
   "cell_type": "code",
   "execution_count": 21,
   "metadata": {
    "ExecuteTime": {
     "end_time": "2022-04-05T17:27:09.568703Z",
     "start_time": "2022-04-05T17:25:44.097446Z"
    }
   },
   "outputs": [
    {
     "name": "stdout",
     "output_type": "stream",
     "text": [
      "Epoch 1/20\n",
      "938/938 - 5s - loss: 0.2352 - accuracy: 0.9286 - 5s/epoch - 5ms/step\n",
      "Epoch 2/20\n",
      "938/938 - 4s - loss: 0.1293 - accuracy: 0.9607 - 4s/epoch - 5ms/step\n",
      "Epoch 3/20\n",
      "938/938 - 4s - loss: 0.1070 - accuracy: 0.9674 - 4s/epoch - 4ms/step\n",
      "Epoch 4/20\n",
      "938/938 - 4s - loss: 0.0878 - accuracy: 0.9726 - 4s/epoch - 4ms/step\n",
      "Epoch 5/20\n",
      "938/938 - 4s - loss: 0.0784 - accuracy: 0.9755 - 4s/epoch - 5ms/step\n",
      "Epoch 6/20\n",
      "938/938 - 4s - loss: 0.0714 - accuracy: 0.9776 - 4s/epoch - 4ms/step\n",
      "Epoch 7/20\n",
      "938/938 - 4s - loss: 0.0654 - accuracy: 0.9792 - 4s/epoch - 5ms/step\n",
      "Epoch 8/20\n",
      "938/938 - 4s - loss: 0.0573 - accuracy: 0.9822 - 4s/epoch - 4ms/step\n",
      "Epoch 9/20\n",
      "938/938 - 4s - loss: 0.0538 - accuracy: 0.9827 - 4s/epoch - 4ms/step\n",
      "Epoch 10/20\n",
      "938/938 - 4s - loss: 0.0520 - accuracy: 0.9833 - 4s/epoch - 4ms/step\n",
      "Epoch 11/20\n",
      "938/938 - 4s - loss: 0.0460 - accuracy: 0.9852 - 4s/epoch - 4ms/step\n",
      "Epoch 12/20\n",
      "938/938 - 4s - loss: 0.0437 - accuracy: 0.9862 - 4s/epoch - 4ms/step\n",
      "Epoch 13/20\n",
      "938/938 - 4s - loss: 0.0416 - accuracy: 0.9863 - 4s/epoch - 5ms/step\n",
      "Epoch 14/20\n",
      "938/938 - 4s - loss: 0.0377 - accuracy: 0.9878 - 4s/epoch - 5ms/step\n",
      "Epoch 15/20\n",
      "938/938 - 4s - loss: 0.0364 - accuracy: 0.9882 - 4s/epoch - 4ms/step\n",
      "Epoch 16/20\n",
      "938/938 - 4s - loss: 0.0350 - accuracy: 0.9891 - 4s/epoch - 4ms/step\n",
      "Epoch 17/20\n",
      "938/938 - 4s - loss: 0.0338 - accuracy: 0.9891 - 4s/epoch - 4ms/step\n",
      "Epoch 18/20\n",
      "938/938 - 4s - loss: 0.0308 - accuracy: 0.9900 - 4s/epoch - 4ms/step\n",
      "Epoch 19/20\n",
      "938/938 - 4s - loss: 0.0298 - accuracy: 0.9901 - 4s/epoch - 4ms/step\n",
      "Epoch 20/20\n",
      "938/938 - 4s - loss: 0.0285 - accuracy: 0.9911 - 4s/epoch - 4ms/step\n",
      "Testing with rate = 0.1\n",
      "313/313 - 1s - loss: 0.0785 - accuracy: 0.9802 - 518ms/epoch - 2ms/step\n"
     ]
    }
   ],
   "source": [
    "from tensorflow.keras.layers import Dense, BatchNormalization, Dropout\n",
    "from tensorflow.keras.layers import Dense, BatchNormalization,ReLU\n",
    "\n",
    "# TO CODE BY STUDENTS\n",
    "\n",
    "# Network Parameters\n",
    "n_hidden_1 = 256 # 1st layer number of neurons\n",
    "n_hidden_2 = 256 # 2nd layer number of neurons\n",
    "n_hidden_3 = 128 # 2nd layer number of neurons\n",
    "\n",
    "alpha_relu=0.2\n",
    "rate_tab = [0.1]\n",
    "n_input = X_train.shape[1]\n",
    "n_classes = Y_train.shape[1] # MNIST total classes (0-9 digits)\n",
    "\n",
    "# TO CODE BY STUDENTS\n",
    "for rate in rate_tab :\n",
    "    model_mlp_multi_layer.add(BatchNormalization())\n",
    "\n",
    "    model_mlp_multi_layer.add(Dropout(rate))\n",
    "    model_mlp_multi_layer = Sequential(Dense(n_hidden_1,input_shape=(n_input,)))\n",
    "    model_mlp_multi_layer.add(BatchNormalization())\n",
    "    model_mlp_multi_layer.add(ReLU())\n",
    "\n",
    "    model_mlp_multi_layer.add(Dropout(rate))\n",
    "    model_mlp_multi_layer.add(Dense(n_hidden_2))\n",
    "    model_mlp_multi_layer.add(BatchNormalization())\n",
    "    model_mlp_multi_layer.add(ReLU())\n",
    "\n",
    "    model_mlp_multi_layer.add(Dropout(rate))\n",
    "    model_mlp_multi_layer.add(Dense(n_hidden_3))\n",
    "    model_mlp_multi_layer.add(BatchNormalization())\n",
    "    model_mlp_multi_layer.add(ReLU())\n",
    "\n",
    "    model_mlp_multi_layer.add(Dropout(rate))\n",
    "    model_mlp_multi_layer.add(Dense(n_classes,activation='softmax'))\n",
    "\n",
    "    # create the loss and optimiser, use 'categorical_crossentropy' in loss\n",
    "    learning_rate = 0.01\n",
    "    history = model_mlp_multi_layer.compile(loss='categorical_crossentropy', optimizer=optimizers.Adam(learning_rate=learning_rate),metrics=[\"accuracy\"]) # TO FILL IN\n",
    "\n",
    "    # Run optimisation algorithm\n",
    "    n_epochs = 20\n",
    "    batch_size = 64\n",
    "\n",
    "    #print('Training')\n",
    "    model_mlp_multi_layer.fit(X_train, Y_train, epochs=n_epochs,batch_size=batch_size,verbose = 1) # TO FILL IN\n",
    "\n",
    "    print('Testing with rate =',rate)\n",
    "    model_mlp_multi_layer.evaluate(X_test, Y_test, verbose=2) # TO FILL IN\n"
   ]
  },
  {
   "cell_type": "code",
   "execution_count": 22,
   "metadata": {
    "ExecuteTime": {
     "end_time": "2022-04-05T17:27:09.600712Z",
     "start_time": "2022-04-05T17:27:09.570707Z"
    }
   },
   "outputs": [
    {
     "ename": "AttributeError",
     "evalue": "'NoneType' object has no attribute 'history'",
     "output_type": "error",
     "traceback": [
      "\u001b[1;31m---------------------------------------------------------------------------\u001b[0m",
      "\u001b[1;31mAttributeError\u001b[0m                            Traceback (most recent call last)",
      "\u001b[1;32m~\\AppData\\Local\\Temp\\ipykernel_6912\\1223029480.py\u001b[0m in \u001b[0;36m<module>\u001b[1;34m\u001b[0m\n\u001b[1;32m----> 1\u001b[1;33m \u001b[0mhistory\u001b[0m\u001b[1;33m.\u001b[0m\u001b[0mhistory\u001b[0m\u001b[1;33m\u001b[0m\u001b[1;33m\u001b[0m\u001b[0m\n\u001b[0m",
      "\u001b[1;31mAttributeError\u001b[0m: 'NoneType' object has no attribute 'history'"
     ]
    }
   ],
   "source": [
    "history.history"
   ]
  }
 ],
 "metadata": {
  "accelerator": "GPU",
  "colab": {
   "collapsed_sections": [],
   "name": "TP_ann_mlp_part_2_students.ipynb",
   "provenance": [],
   "toc_visible": true
  },
  "kernelspec": {
   "display_name": "Python 3 (ipykernel)",
   "language": "python",
   "name": "python3"
  },
  "language_info": {
   "codemirror_mode": {
    "name": "ipython",
    "version": 3
   },
   "file_extension": ".py",
   "mimetype": "text/x-python",
   "name": "python",
   "nbconvert_exporter": "python",
   "pygments_lexer": "ipython3",
   "version": "3.10.2"
  },
  "latex_envs": {
   "LaTeX_envs_menu_present": true,
   "autoclose": true,
   "autocomplete": true,
   "bibliofile": "biblio.bib",
   "cite_by": "apalike",
   "current_citInitial": 1,
   "eqLabelWithNumbers": true,
   "eqNumInitial": 1,
   "hotkeys": {
    "equation": "Ctrl-E",
    "itemize": "Ctrl-I"
   },
   "labels_anchors": false,
   "latex_user_defs": false,
   "report_style_numbering": false,
   "user_envs_cfg": false
  }
 },
 "nbformat": 4,
 "nbformat_minor": 1
}
