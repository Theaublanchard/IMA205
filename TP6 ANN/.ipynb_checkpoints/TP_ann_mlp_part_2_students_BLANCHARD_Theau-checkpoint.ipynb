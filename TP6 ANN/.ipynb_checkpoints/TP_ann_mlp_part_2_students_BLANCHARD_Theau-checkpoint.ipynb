{
 "cells": [
  {
   "cell_type": "markdown",
   "metadata": {
    "id": "RIjFqlgERHAq"
   },
   "source": [
    "# IMA-205\n",
    "# TP ANN (part B) 2021/03/29\n",
    "\n",
    "## Coding a Multi-Layer Perceptron with Tensorflow\n",
    "Author : Alasdair Newson"
   ]
  },
  {
   "cell_type": "markdown",
   "metadata": {
    "id": "oG_lwX5GRHAs"
   },
   "source": [
    "In the second part of this TP, we will be looking at the Multi-Layer Perceptron (MLP) using Tensorflow (http://www.tensorflow.org)\n",
    "\n",
    "We will be using the following packages :\n",
    "   \n",
    "   - Scikit-learn (http://scikit-learn.org/)\n",
    "   - Tensorflow (http://www.tensorflow.org)\n",
    "\n",
    "The following commands will make sure that you have all the necessary packages"
   ]
  },
  {
   "cell_type": "code",
   "execution_count": 1,
   "metadata": {
    "ExecuteTime": {
     "end_time": "2022-04-04T06:44:12.978957Z",
     "start_time": "2022-04-04T06:44:05.502222Z"
    },
    "id": "sCGFw05kRHAs"
   },
   "outputs": [
    {
     "name": "stdout",
     "output_type": "stream",
     "text": [
      "2.8.0\n"
     ]
    }
   ],
   "source": [
    "%matplotlib inline                      \n",
    "\n",
    "import numpy as np\n",
    "import matplotlib.pyplot as plt\n",
    "import os\n",
    "import pdb\n",
    "\n",
    "import sklearn  # scikit-learn\n",
    "import tensorflow as tf\n",
    "\n",
    "# import tensorflow models\n",
    "from tensorflow.keras.models import Sequential, Model\n",
    "from tensorflow.keras.layers import Dense, Dropout, Activation, Flatten, Input\n",
    "from tensorflow.keras.layers import Conv2D, MaxPooling2D\n",
    "from tensorflow.keras import optimizers\n",
    "print(tf.keras.__version__)"
   ]
  },
  {
   "cell_type": "markdown",
   "metadata": {
    "id": "dxgAcMrMRHAt"
   },
   "source": [
    "# 1 - Multi-Layer Perceptron with Tensorflow"
   ]
  },
  {
   "cell_type": "markdown",
   "metadata": {
    "id": "OjK-B5mkRHAt"
   },
   "source": [
    "## Introduction to TensorFlow"
   ]
  },
  {
   "cell_type": "markdown",
   "metadata": {
    "id": "gzVmdesCRHAu"
   },
   "source": [
    "Tensorflow is an environment written by Google which allows easy implementation of deep neural networks. In particular, it provides automatic differentiation so that the user does not have to determine gradients manually, which can be extremely long even for simple networks, as you have seen in the previous TP*.\n",
    "\n",
    "This, in turn allows a user to apply techniques such as stochastic gradient descent for training purposes. The differentiation graph is created symbolically when the network is created. Since a neural network is simply a cascade (or concatenation) of simple functions, the network in Tensorflow is simply a sequence of functions which are applied to one or several variables. The output of the final function is the output of the network.\n",
    "\n",
    "For instance, if the input were ```x``` and the network consisted of two functions ```a``` and ```b```, you could create the network simply by writing :\n",
    "\n",
    "```y = b(a(x))```\n",
    "\n",
    "However, it is clear that these functions and variables must be of some special type, so that the computer can figure out how to carry out the automatic differentiation for training. Tensorflow provides these functions and variables, which must be created with the Tensorflow package.\n",
    "\n",
    "Previously, Tensorflow required a strict separation between the creation (declaration) of variables and their execution (giving a numerical value, using the ```Session``` function). With Keras and Tensorflow 2, this separation has been removed, and the language has become simpler, in particular for creating and training networks.\n",
    "\n",
    "## Creating a network\n",
    "\n",
    "To create a network, there are two (main) methods :\n",
    "\n",
    "### Creating a model using the Sequential API\n",
    "\n",
    "Tensorflow has a simple way of adding layers to create a neural network. First, you can indicate to Tensorflow that the model is 'sequential' (a simple model, with not many tweaks). For this, you can use the following function :\n",
    "- ```model = Sequential()```\n",
    "\n",
    "After this, you can add layers with the function.\n",
    "\n",
    "- ```model.add()```\n",
    "\n",
    "You can then use the ```Dense``` (and other) functions to specify different layer types.  __Note that in the case of this approach, you will have to specify the input image size in the first layer of the network, inside the first layer function.__ So, for example, if the first layer is a dense layer with a relu activation, with n_out output neurons, and n_input neurons :\n",
    "\n",
    "- model = Sequential()\n",
    "- model.add(Dense(n_out,activation,input_shape=(n_in,),activation='relu'))\n",
    "\n",
    "Otherwise, the network does not know how many weights to create. __Be careful of this special case (the first layer)__ \n",
    "\n",
    "### Creating a model using the standard API\n",
    "\n",
    "Otherwise, another approach to creating the model is to explicitly create the input variable, and just cascade the different functions, as in Tensorflow. So, for the same example, we would have :\n",
    "\n",
    "- input = Input(shape=(n_in,))\n",
    "- output = Dense(n_in,n_out,activation='relu')(input)\n",
    "- model = Model(input, output)\n",
    "\n",
    "\n",
    "For now, let's use the Sequential API (however, if you want to try the standard API, go ahead).\n",
    "\n",
    "## Training and testing a network\n",
    "\n",
    "Tensorflow allows the easy training of a network with the following functions :\n",
    "\n",
    "- model.compile(loss='binary_crossentropy', optimizer=optimizers.Adam(lr=learning_rate)) : create the loss function and define the optimiser used. This function can do many other useful things (such as specifying different metrics to look at the model's performance\n",
    "\n",
    "- model.fit(...) : train the model\n",
    "- model.evaluate(...) : test the model\n",
    "- model.predict(...) : carry out a simple forward pass on the model\n",
    "\n",
    "Please look at the Tensorflow documenation for further details on these functions.\n"
   ]
  },
  {
   "cell_type": "markdown",
   "metadata": {
    "id": "UYFxzt5mRHAy"
   },
   "source": [
    "# MLP with TensorFlow\n",
    "\n",
    "We are now going to create an MLP with tensorflow. We will start with an MLP with one hidden layer. The network should consist of the following operations, in the following order :\n",
    "\n",
    "- Fully connected layer, with weights w1 and biases b1\n",
    "- ReLU activation\n",
    "- Fully connected layer, with weights w2 and biases b2\n",
    "- Sigmoid output activation\n",
    "\n",
    "We are going to be solving a binary classification \n",
    "problem, so the output of the network should be a scalar between 0 and 1 (thus the last layer is a Sigmoid activation).\n",
    "\n",
    "The loss function should be defined as the binary cross-entropy between the predicted class and the true class\n"
   ]
  },
  {
   "cell_type": "markdown",
   "metadata": {
    "id": "jdGVzE6NRHAy"
   },
   "source": [
    "First, we load the data."
   ]
  },
  {
   "cell_type": "code",
   "execution_count": 2,
   "metadata": {
    "ExecuteTime": {
     "end_time": "2022-04-04T06:44:38.458733Z",
     "start_time": "2022-04-04T06:44:38.177062Z"
    },
    "id": "EfiJwuLmRHAy"
   },
   "outputs": [
    {
     "data": {
      "image/png": "[encoded data removed]",
      "text/plain": [
       "<Figure size 432x288 with 1 Axes>"
      ]
     },
     "metadata": {
      "needs_background": "light"
     },
     "output_type": "display_data"
    }
   ],
   "source": [
    "from sklearn import datasets\n",
    "from sklearn.preprocessing import MinMaxScaler\n",
    "from sklearn.model_selection import train_test_split\n",
    "\n",
    "X, Y = datasets.make_circles(n_samples=1000, noise=0.05, factor=0.5)\n",
    "#X, y = datasets.make_moons(n_samples=1000, random_state=42)  # try with 2 moons\n",
    "X = MinMaxScaler().fit_transform(X)\n",
    "\n",
    "#show data in plot\n",
    "plt.plot(X[Y == 1, 0], X[Y == 1, 1], 'ro')\n",
    "plt.plot(X[Y == 0, 0], X[Y == 0, 1], 'bo')\n",
    "plt.grid('on')"
   ]
  },
  {
   "cell_type": "markdown",
   "metadata": {
    "id": "cRL1c6UyRHAy"
   },
   "source": [
    "We are now going to define some useful auxillary functions.\n",
    "\n",
    "First, a function that shows the decision boundary of our network. This works only for 2D input data"
   ]
  },
  {
   "cell_type": "code",
   "execution_count": 3,
   "metadata": {
    "ExecuteTime": {
     "end_time": "2022-04-04T06:44:40.421323Z",
     "start_time": "2022-04-04T06:44:40.409306Z"
    },
    "code_folding": [
     0,
     2
    ],
    "id": "x0cUhY8xRHAz"
   },
   "outputs": [],
   "source": [
    "# THIS CODE IS GIVEN\n",
    "\n",
    "def plot_decision_function_2d(model_mlp, X, Y):\n",
    "   # create a mesh to plot in\n",
    "    h = .02  # step size in the mesh\n",
    "    offset = 0.1\n",
    "    x_min, x_max = X[:, 0].min() - offset, X[:, 0].max() + offset\n",
    "    y_min, y_max = X[:, 1].min() - offset, X[:, 1].max() + offset\n",
    "    xx, yy = np.meshgrid(np.arange(x_min, x_max, h),\n",
    "                         np.arange(y_min, y_max, h))\n",
    "\n",
    "    # Plot the decision boundary. For that, we will assign a color to each\n",
    "    # point in the mesh [x_min, x_max]x[y_min, y_max].\n",
    "    Z = model_mlp.predict(np.c_[xx.ravel(), yy.ravel()])\n",
    "    print(Z.shape)\n",
    "    print(Z)\n",
    "    \n",
    "    Z = Z<0.5\n",
    "    # Put the result into a color plot\n",
    "    Z = Z.reshape(xx.shape)\n",
    "    plt.figure()\n",
    "    plt.contourf(xx, yy, Z, cmap=plt.cm.Paired)\n",
    "\n",
    "    plt.plot(X[Y == 1, 0], X[Y == 1, 1], 'yo')\n",
    "    plt.plot(X[Y == 0, 0], X[Y == 0, 1], 'ko')\n",
    "\n",
    "    plt.title(\"Decision surface\")\n",
    "    plt.axis('tight')"
   ]
  },
  {
   "cell_type": "markdown",
   "metadata": {
    "id": "CKtZJ5iQRHA0"
   },
   "source": [
    "## CREATING AND TRAINING THE MODEL\n",
    "\n",
    "We are now ready to create our network with a Tensorflow Session and to carry out training on our training dataset."
   ]
  },
  {
   "cell_type": "code",
   "execution_count": 8,
   "metadata": {
    "ExecuteTime": {
     "end_time": "2022-04-04T06:58:30.496441Z",
     "start_time": "2022-04-04T06:58:28.889361Z"
    },
    "collapsed": true,
    "id": "WO8dHtrGRHA0"
   },
   "outputs": [
    {
     "name": "stdout",
     "output_type": "stream",
     "text": [
      "(850, 2)\n",
      "Training\n",
      "Epoch 1/20\n",
      "14/14 [==============================] - 1s 3ms/step - loss: 0.6885 - accuracy: 0.5506\n",
      "Epoch 2/20\n",
      "14/14 [==============================] - 0s 3ms/step - loss: 0.6776 - accuracy: 0.6247\n",
      "Epoch 3/20\n",
      "14/14 [==============================] - 0s 3ms/step - loss: 0.6645 - accuracy: 0.5976\n",
      "Epoch 4/20\n",
      "14/14 [==============================] - 0s 2ms/step - loss: 0.6495 - accuracy: 0.6906\n",
      "Epoch 5/20\n",
      "14/14 [==============================] - 0s 3ms/step - loss: 0.6313 - accuracy: 0.6847\n",
      "Epoch 6/20\n",
      "14/14 [==============================] - 0s 3ms/step - loss: 0.6119 - accuracy: 0.7329\n",
      "Epoch 7/20\n",
      "14/14 [==============================] - 0s 3ms/step - loss: 0.5898 - accuracy: 0.7918\n",
      "Epoch 8/20\n",
      "14/14 [==============================] - 0s 3ms/step - loss: 0.5715 - accuracy: 0.7212\n",
      "Epoch 9/20\n",
      "14/14 [==============================] - 0s 3ms/step - loss: 0.5432 - accuracy: 0.7953\n",
      "Epoch 10/20\n",
      "14/14 [==============================] - 0s 2ms/step - loss: 0.5186 - accuracy: 0.7894\n",
      "Epoch 11/20\n",
      "14/14 [==============================] - 0s 2ms/step - loss: 0.4898 - accuracy: 0.8365\n",
      "Epoch 12/20\n",
      "14/14 [==============================] - 0s 2ms/step - loss: 0.4584 - accuracy: 0.8600\n",
      "Epoch 13/20\n",
      "14/14 [==============================] - 0s 2ms/step - loss: 0.4330 - accuracy: 0.8635\n",
      "Epoch 14/20\n",
      "14/14 [==============================] - 0s 2ms/step - loss: 0.3960 - accuracy: 0.9224\n",
      "Epoch 15/20\n",
      "14/14 [==============================] - 0s 2ms/step - loss: 0.3673 - accuracy: 0.9188\n",
      "Epoch 16/20\n",
      "14/14 [==============================] - 0s 2ms/step - loss: 0.3324 - accuracy: 0.9376\n",
      "Epoch 17/20\n",
      "14/14 [==============================] - 0s 2ms/step - loss: 0.2980 - accuracy: 0.9588\n",
      "Epoch 18/20\n",
      "14/14 [==============================] - 0s 2ms/step - loss: 0.2672 - accuracy: 0.9647\n",
      "Epoch 19/20\n",
      "14/14 [==============================] - 0s 2ms/step - loss: 0.2354 - accuracy: 0.9965\n",
      "Epoch 20/20\n",
      "14/14 [==============================] - 0s 2ms/step - loss: 0.2082 - accuracy: 1.0000\n",
      "Testing\n",
      "5/5 - 0s - loss: 0.1955 - accuracy: 1.0000 - 132ms/epoch - 26ms/step\n"
     ]
    },
    {
     "data": {
      "text/plain": [
       "[0.19546741247177124, 1.0]"
      ]
     },
     "execution_count": 8,
     "metadata": {},
     "output_type": "execute_result"
    }
   ],
   "source": [
    "# FILL IN CODE BY STUDENTS IN THIS SECTION\n",
    "\n",
    "#We split up the data into training and test data, using a function from Scikit-learn :\n",
    "X_train, X_test, Y_train, Y_test = train_test_split(X, Y, test_size=0.15)\n",
    "print(X_train.shape)\n",
    "\n",
    "# Layer sizes\n",
    "n_input = X.shape[1]  # Number of input features\n",
    "n_hidden = 50  # Number of hidden nodes\n",
    "\n",
    "# create the model (using the sequential API)\n",
    "\n",
    "model_mlp = Sequential()   # FILL IN STUDENTS\n",
    "model_mlp.add(Dense(n_hidden,input_shape=(n_input,),activation='relu'))\n",
    "model_mlp.add(Dense(1,activation='sigmoid'))\n",
    "# create the loss and optimiser\n",
    "learning_rate = 0.01\n",
    "model_mlp.compile(loss='binary_crossentropy', optimizer=optimizers.Adam(learning_rate=learning_rate),metrics=[\"accuracy\"]) # TO FILL IN\n",
    "# Run optimisation algorithm\n",
    "n_epochs = 20\n",
    "batch_size = 64\n",
    "\n",
    "print('Training')\n",
    "model_mlp.fit(X_train, Y_train, epochs=n_epochs,batch_size=batch_size) # TO FILL IN\n",
    "\n",
    "print('Testing')\n",
    "model_mlp.evaluate(X_test, Y_test, verbose=2) # TO FILL IN\n"
   ]
  },
  {
   "cell_type": "code",
   "execution_count": 9,
   "metadata": {
    "ExecuteTime": {
     "end_time": "2022-04-04T06:59:06.138883Z",
     "start_time": "2022-04-04T06:59:05.626910Z"
    },
    "id": "lpBaU1rcc0oY"
   },
   "outputs": [
    {
     "name": "stdout",
     "output_type": "stream",
     "text": [
      "(3540, 1)\n",
      "[[0.0007135 ]\n",
      " [0.00100756]\n",
      " [0.00142315]\n",
      " ...\n",
      " [0.00535318]\n",
      " [0.00456566]\n",
      " [0.00389349]]\n"
     ]
    },
    {
     "data": {
      "image/png": "[encoded data removed]",
      "text/plain": [
       "<Figure size 432x288 with 1 Axes>"
      ]
     },
     "metadata": {
      "needs_background": "light"
     },
     "output_type": "display_data"
    }
   ],
   "source": [
    "plot_decision_function_2d(model_mlp, X_test, Y_test)"
   ]
  },
  {
   "cell_type": "markdown",
   "metadata": {
    "id": "6oni6Q5vRHA0"
   },
   "source": [
    "# MLP with several hidden layers\n",
    "\n",
    "We are now going to create an MLP with several hidden layers. We are going to use a more complicated dataset : the MNIST dataset, which contains images of handwritten digits. There are 10 classes, one for each digit.\n",
    "\n",
    "We are going to implement the following architecture :\n",
    "\n",
    "- Fully connected layer\n",
    "- Relu activation\n",
    "- Fully connected layer\n",
    "- Relu activation\n",
    "- Fully connected layer\n",
    "- Relu activation\n",
    "- Fully connected layer\n",
    "- Softmax output activation\n",
    "\n",
    "__IMPORTANT Note__ The sigmoid layer has been replaced by a softmax layer (at the end). This is normal, since we have a multi-class problem.\n",
    "\n",
    "\n",
    "First, we load the MNIST dataset."
   ]
  },
  {
   "cell_type": "code",
   "execution_count": 10,
   "metadata": {
    "ExecuteTime": {
     "end_time": "2022-04-04T06:59:24.935972Z",
     "start_time": "2022-04-04T06:59:24.551282Z"
    },
    "id": "Z0cGLMKRRHA0"
   },
   "outputs": [],
   "source": [
    "# Import MNIST data\n",
    "mnist = tf.keras.datasets.mnist\n",
    "(X_train, y_train),(X_test\n",
    "                    , y_test) = mnist.load_data()\n",
    "\n",
    "Y_train = tf.keras.utils.to_categorical(y_train)  # in order to convert y to a matrix with (num_examples, num_classes) (one-hot encoding)\n",
    "Y_test = tf.keras.utils.to_categorical(y_test)  # in order to convert y to a matrix with (num_examples, num_classes) (one-hot encoding)\n",
    "\n",
    "#reshape the input images : flatten the last two dimensions\n",
    "X_train = np.reshape(X_train,(X_train.shape[0],X_train.shape[1]*X_train.shape[2]))\n",
    "X_test = np.reshape(X_test,(X_test.shape[0],X_test.shape[1]*X_test.shape[2]))\n"
   ]
  },
  {
   "cell_type": "markdown",
   "metadata": {
    "id": "EzMV_9-NRHA1"
   },
   "source": [
    "Finally, fill in the following code to create and train your MLP"
   ]
  },
  {
   "cell_type": "code",
   "execution_count": 14,
   "metadata": {
    "ExecuteTime": {
     "end_time": "2022-04-04T07:05:04.753292Z",
     "start_time": "2022-04-04T07:03:50.240946Z"
    },
    "id": "2G7AToqyRHA1"
   },
   "outputs": [
    {
     "name": "stdout",
     "output_type": "stream",
     "text": [
      "Training\n",
      "Epoch 1/20\n",
      "938/938 [==============================] - 5s 4ms/step - loss: 4.2279 - accuracy: 0.6257\n",
      "Epoch 2/20\n",
      "938/938 [==============================] - 4s 4ms/step - loss: 0.5703 - accuracy: 0.8303\n",
      "Epoch 3/20\n",
      "938/938 [==============================] - 4s 4ms/step - loss: 0.4558 - accuracy: 0.8730\n",
      "Epoch 4/20\n",
      "938/938 [==============================] - 3s 4ms/step - loss: 0.4330 - accuracy: 0.8860\n",
      "Epoch 5/20\n",
      "938/938 [==============================] - 3s 4ms/step - loss: 0.4482 - accuracy: 0.8854\n",
      "Epoch 6/20\n",
      "938/938 [==============================] - 3s 4ms/step - loss: 0.4356 - accuracy: 0.8924\n",
      "Epoch 7/20\n",
      "938/938 [==============================] - 3s 4ms/step - loss: 0.5130 - accuracy: 0.8744\n",
      "Epoch 8/20\n",
      "938/938 [==============================] - 3s 4ms/step - loss: 0.6270 - accuracy: 0.8457\n",
      "Epoch 9/20\n",
      "938/938 [==============================] - 4s 4ms/step - loss: 0.7428 - accuracy: 0.7687\n",
      "Epoch 10/20\n",
      "938/938 [==============================] - 4s 4ms/step - loss: 0.6962 - accuracy: 0.7757\n",
      "Epoch 11/20\n",
      "938/938 [==============================] - 3s 4ms/step - loss: 0.6937 - accuracy: 0.7781\n",
      "Epoch 12/20\n",
      "938/938 [==============================] - 4s 4ms/step - loss: 0.7540 - accuracy: 0.7637\n",
      "Epoch 13/20\n",
      "938/938 [==============================] - 3s 4ms/step - loss: 0.9099 - accuracy: 0.6919\n",
      "Epoch 14/20\n",
      "938/938 [==============================] - 4s 4ms/step - loss: 0.7726 - accuracy: 0.7506\n",
      "Epoch 15/20\n",
      "938/938 [==============================] - 4s 4ms/step - loss: 0.9062 - accuracy: 0.6747\n",
      "Epoch 16/20\n",
      "938/938 [==============================] - 4s 4ms/step - loss: 0.9238 - accuracy: 0.6803\n",
      "Epoch 17/20\n",
      "938/938 [==============================] - 4s 4ms/step - loss: 0.9209 - accuracy: 0.6615\n",
      "Epoch 18/20\n",
      "938/938 [==============================] - 4s 4ms/step - loss: 0.9575 - accuracy: 0.6595\n",
      "Epoch 19/20\n",
      "938/938 [==============================] - 3s 4ms/step - loss: 0.9258 - accuracy: 0.6702\n",
      "Epoch 20/20\n",
      "938/938 [==============================] - 3s 4ms/step - loss: 0.9731 - accuracy: 0.6843\n",
      "Testing\n",
      "313/313 - 1s - loss: 0.7709 - accuracy: 0.7483 - 782ms/epoch - 2ms/step\n"
     ]
    },
    {
     "data": {
      "text/plain": [
       "[0.7709214091300964, 0.7483000159263611]"
      ]
     },
     "execution_count": 14,
     "metadata": {},
     "output_type": "execute_result"
    }
   ],
   "source": [
    "\n",
    "# Network Parameters\n",
    "n_hidden_1 = 256 # 1st layer number of neurons\n",
    "n_hidden_2 = 256 # 2nd layer number of neurons\n",
    "n_hidden_3 = 128 # 2nd layer number of neurons\n",
    "\n",
    "n_input = X_train.shape[1]\n",
    "n_classes = Y_train.shape[1] # MNIST total classes (0-9 digits)\n",
    "\n",
    "# TO CODE BY STUDENTS\n",
    "\n",
    "\n",
    "model_mlp_multi_layer = Sequential(Dense(n_hidden_1,input_shape=(n_input,),activation='relu'))\n",
    "model_mlp_multi_layer.add(Dense(n_hidden_2,input_shape=(n_input,),activation='relu'))\n",
    "model_mlp_multi_layer.add(Dense(n_hidden_3,activation='relu'))\n",
    "model_mlp_multi_layer.add(Dense(n_classes,activation='softmax'))\n",
    "\n",
    "# create the loss and optimiser, use 'categorical_crossentropy' in loss\n",
    "learning_rate = 0.01\n",
    "model_mlp_multi_layer.compile(loss='categorical_crossentropy', optimizer=optimizers.Adam(learning_rate=learning_rate),metrics=[\"accuracy\"]) # TO FILL IN\n",
    "\n",
    "# Run optimisation algorithm\n",
    "n_epochs = 20\n",
    "batch_size = 64\n",
    "\n",
    "print('Training')\n",
    "model_mlp_multi_layer.fit(X_train, Y_train, epochs=n_epochs,batch_size=batch_size) # TO FILL IN\n",
    "\n",
    "print('Testing')\n",
    "model_mlp_multi_layer.evaluate(X_test, Y_test, verbose=2) # TO FILL IN"
   ]
  },
  {
   "cell_type": "code",
   "execution_count": 15,
   "metadata": {
    "ExecuteTime": {
     "end_time": "2022-04-04T07:05:04.769296Z",
     "start_time": "2022-04-04T07:05:04.757297Z"
    },
    "id": "s6Q-JntxluxG"
   },
   "outputs": [],
   "source": [
    "# THIS CODE IS GIVEN\n",
    "\n",
    "def test_mnist_images(model_mlp_multi_layer,X_test):\n",
    "  plt.figure(figsize=(10, 6))\n",
    "  for idx in range(0,10):\n",
    "      plt.subplot(2, 5, idx+1)\n",
    "      rand_ind = np.random.randint(0,X_test.shape[0])\n",
    "      plt.imshow(np.reshape(X_test[rand_ind,:],(28,28)),cmap='gray')\n",
    "      # get prediction\n",
    "      model_prediction = np.argmax(model_mlp_multi_layer.predict(np.expand_dims( X_test[rand_ind,:], axis=0)),axis=1)\n",
    "      plt.title(int(model_prediction))"
   ]
  },
  {
   "cell_type": "code",
   "execution_count": 17,
   "metadata": {
    "ExecuteTime": {
     "end_time": "2022-04-04T07:05:49.979677Z",
     "start_time": "2022-04-04T07:05:47.998423Z"
    },
    "id": "r2D9RE4apVWW"
   },
   "outputs": [
    {
     "data": {
      "image/png": "[encoded data removed]",
      "text/plain": [
       "<Figure size 720x432 with 10 Axes>"
      ]
     },
     "metadata": {
      "needs_background": "light"
     },
     "output_type": "display_data"
    }
   ],
   "source": [
    "test_mnist_images(model_mlp_multi_layer,X_test)"
   ]
  },
  {
   "cell_type": "markdown",
   "metadata": {
    "id": "lItdBVnfu7xK"
   },
   "source": [
    "You may observe some difficulties in getting good performance in this case. To improve training, we can turn to __regularisation__"
   ]
  },
  {
   "cell_type": "markdown",
   "metadata": {
    "id": "Vgao_U5XRHA2"
   },
   "source": [
    "## BATCH NORMALISATION\n",
    "\n",
    "One approach to regularisation which we have seen during the lesson is known as batch normalisation, which we have seen during the lesson. This can be implemented very simply in Tensorflow by adding the following layer :\n",
    "\n",
    "- ```BatchNormalization()```\n",
    "\n",
    "Change your model below, and implement this using your code above"
   ]
  },
  {
   "cell_type": "code",
   "execution_count": 21,
   "metadata": {
    "ExecuteTime": {
     "end_time": "2022-04-04T09:03:17.251508Z",
     "start_time": "2022-04-04T09:01:52.952906Z"
    },
    "id": "6Ela5-4XRHA2"
   },
   "outputs": [
    {
     "name": "stdout",
     "output_type": "stream",
     "text": [
      "Training\n",
      "Epoch 1/20\n",
      "938/938 [==============================] - 5s 5ms/step - loss: 0.2144 - accuracy: 0.9336\n",
      "Epoch 2/20\n",
      "938/938 [==============================] - 4s 4ms/step - loss: 0.1078 - accuracy: 0.9665\n",
      "Epoch 3/20\n",
      "938/938 [==============================] - 5s 5ms/step - loss: 0.0872 - accuracy: 0.9725\n",
      "Epoch 4/20\n",
      "938/938 [==============================] - 5s 5ms/step - loss: 0.0712 - accuracy: 0.9779\n",
      "Epoch 5/20\n",
      "938/938 [==============================] - 4s 4ms/step - loss: 0.0612 - accuracy: 0.9809\n",
      "Epoch 6/20\n",
      "938/938 [==============================] - 4s 4ms/step - loss: 0.0530 - accuracy: 0.9830\n",
      "Epoch 7/20\n",
      "938/938 [==============================] - 4s 4ms/step - loss: 0.0455 - accuracy: 0.9846\n",
      "Epoch 8/20\n",
      "938/938 [==============================] - 4s 4ms/step - loss: 0.0404 - accuracy: 0.9873\n",
      "Epoch 9/20\n",
      "938/938 [==============================] - 4s 5ms/step - loss: 0.0387 - accuracy: 0.9871\n",
      "Epoch 10/20\n",
      "938/938 [==============================] - 4s 4ms/step - loss: 0.0341 - accuracy: 0.9887\n",
      "Epoch 11/20\n",
      "938/938 [==============================] - 4s 4ms/step - loss: 0.0294 - accuracy: 0.9900\n",
      "Epoch 12/20\n",
      "938/938 [==============================] - 4s 4ms/step - loss: 0.0305 - accuracy: 0.9902\n",
      "Epoch 13/20\n",
      "938/938 [==============================] - 4s 5ms/step - loss: 0.0271 - accuracy: 0.9908\n",
      "Epoch 14/20\n",
      "938/938 [==============================] - 4s 4ms/step - loss: 0.0248 - accuracy: 0.9917\n",
      "Epoch 15/20\n",
      "938/938 [==============================] - 4s 4ms/step - loss: 0.0251 - accuracy: 0.9918\n",
      "Epoch 16/20\n",
      "938/938 [==============================] - 4s 4ms/step - loss: 0.0198 - accuracy: 0.9933\n",
      "Epoch 17/20\n",
      "938/938 [==============================] - 4s 4ms/step - loss: 0.0213 - accuracy: 0.9931\n",
      "Epoch 18/20\n",
      "938/938 [==============================] - 4s 4ms/step - loss: 0.0181 - accuracy: 0.9937\n",
      "Epoch 19/20\n",
      "938/938 [==============================] - 4s 4ms/step - loss: 0.0211 - accuracy: 0.9934\n",
      "Epoch 20/20\n",
      "938/938 [==============================] - 4s 4ms/step - loss: 0.0162 - accuracy: 0.9949\n",
      "Testing\n",
      "313/313 - 0s - loss: 0.0735 - accuracy: 0.9829 - 500ms/epoch - 2ms/step\n"
     ]
    },
    {
     "data": {
      "text/plain": [
       "[0.07348205894231796, 0.9829000234603882]"
      ]
     },
     "execution_count": 21,
     "metadata": {},
     "output_type": "execute_result"
    }
   ],
   "source": [
    "from tensorflow.keras.layers import Dense, BatchNormalization,ReLU\n",
    "\n",
    "# TO CODE BY STUDENTS\n",
    "\n",
    "# Network Parameters\n",
    "n_hidden_1 = 256 # 1st layer number of neurons\n",
    "n_hidden_2 = 256 # 2nd layer number of neurons\n",
    "n_hidden_3 = 128 # 2nd layer number of neurons\n",
    "\n",
    "alpha_relu=0.2\n",
    "\n",
    "n_input = X_train.shape[1]\n",
    "n_classes = Y_train.shape[1] # MNIST total classes (0-9 digits)\n",
    "\n",
    "# TO CODE BY STUDENTS\n",
    "\n",
    "model_mlp_multi_layer.add(BatchNormalization())\n",
    "model_mlp_multi_layer = Sequential(Dense(n_hidden_1,input_shape=(n_input,)))\n",
    "model_mlp_multi_layer.add(BatchNormalization())\n",
    "model_mlp_multi_layer.add(ReLU())\n",
    "model_mlp_multi_layer.add(Dense(n_hidden_2))\n",
    "model_mlp_multi_layer.add(BatchNormalization())\n",
    "model_mlp_multi_layer.add(ReLU())\n",
    "model_mlp_multi_layer.add(Dense(n_hidden_3))\n",
    "model_mlp_multi_layer.add(BatchNormalization())\n",
    "model_mlp_multi_layer.add(ReLU())\n",
    "model_mlp_multi_layer.add(Dense(n_classes,activation='softmax'))\n",
    "\n",
    "# create the loss and optimiser, use 'categorical_crossentropy' in loss\n",
    "learning_rate = 0.01\n",
    "model_mlp_multi_layer.compile(loss='categorical_crossentropy', optimizer=optimizers.Adam(learning_rate=learning_rate),metrics=[\"accuracy\"]) # TO FILL IN\n",
    "\n",
    "# Run optimisation algorithm\n",
    "n_epochs = 20\n",
    "batch_size = 64\n",
    "\n",
    "print('Training')\n",
    "model_mlp_multi_layer.fit(X_train, Y_train, epochs=n_epochs,batch_size=batch_size) # TO FILL IN\n",
    "\n",
    "print('Testing')\n",
    "model_mlp_multi_layer.evaluate(X_test, Y_test, verbose=2) # TO FILL IN"
   ]
  },
  {
   "cell_type": "code",
   "execution_count": 19,
   "metadata": {
    "ExecuteTime": {
     "end_time": "2022-04-04T07:08:04.526707Z",
     "start_time": "2022-04-04T07:08:03.111968Z"
    },
    "id": "cSxGzvQ3pg3u"
   },
   "outputs": [
    {
     "data": {
      "image/png": "[encoded data removed]",
      "text/plain": [
       "<Figure size 720x432 with 10 Axes>"
      ]
     },
     "metadata": {
      "needs_background": "light"
     },
     "output_type": "display_data"
    }
   ],
   "source": [
    "test_mnist_images(model_mlp_multi_layer,X_test)"
   ]
  },
  {
   "cell_type": "markdown",
   "metadata": {
    "id": "Wp2VIfZ1v7lN"
   },
   "source": [
    "Question : do you observe improved convergence ?\n",
    "On a de biens meilleurs résultats, on passe d'une précision de 0.7483 à 0.9775."
   ]
  },
  {
   "cell_type": "markdown",
   "metadata": {
    "id": "Y2CWgKZeRHA2"
   },
   "source": [
    "#### Documentation:\n",
    "\n",
    "  - http://www.tensorflow.org\n",
    "  - http://www.deeplearningbook.org/"
   ]
  }
 ],
 "metadata": {
  "accelerator": "GPU",
  "colab": {
   "collapsed_sections": [],
   "name": "TP_ann_mlp_part_2_students.ipynb",
   "provenance": [],
   "toc_visible": true
  },
  "kernelspec": {
   "display_name": "Python 3 (ipykernel)",
   "language": "python",
   "name": "python3"
  },
  "language_info": {
   "codemirror_mode": {
    "name": "ipython",
    "version": 3
   },
   "file_extension": ".py",
   "mimetype": "text/x-python",
   "name": "python",
   "nbconvert_exporter": "python",
   "pygments_lexer": "ipython3",
   "version": "3.10.2"
  },
  "latex_envs": {
   "LaTeX_envs_menu_present": true,
   "autoclose": true,
   "autocomplete": true,
   "bibliofile": "biblio.bib",
   "cite_by": "apalike",
   "current_citInitial": 1,
   "eqLabelWithNumbers": true,
   "eqNumInitial": 1,
   "hotkeys": {
    "equation": "Ctrl-E",
    "itemize": "Ctrl-I"
   },
   "labels_anchors": false,
   "latex_user_defs": false,
   "report_style_numbering": false,
   "user_envs_cfg": false
  }
 },
 "nbformat": 4,
 "nbformat_minor": 1
}
